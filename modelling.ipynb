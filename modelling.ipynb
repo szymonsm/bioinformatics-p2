{
 "cells": [
  {
   "cell_type": "code",
   "execution_count": 1,
   "metadata": {},
   "outputs": [],
   "source": [
    "from src.BioModel import *"
   ]
  },
  {
   "cell_type": "code",
   "execution_count": null,
   "metadata": {},
   "outputs": [
    {
     "name": "stderr",
     "output_type": "stream",
     "text": [
      "  0%|          | 0/1 [00:00<?, ?it/s][I 2024-11-27 21:12:17,237] A new study created in memory with name: no-name-e16de6d8-b7aa-4fff-8fdd-bfae911c374d\n",
      "[I 2024-11-27 21:15:00,612] Trial 0 finished with value: 0.7929850468093647 and parameters: {'n_estimators': 968, 'max_depth': 6, 'learning_rate': 0.4866153363827933}. Best is trial 0 with value: 0.7929850468093647.\n",
      "[I 2024-11-27 21:19:13,021] Trial 1 finished with value: 0.8018193287551432 and parameters: {'n_estimators': 716, 'max_depth': 7, 'learning_rate': 0.11588385283438442}. Best is trial 1 with value: 0.8018193287551432.\n",
      "[I 2024-11-27 21:19:41,792] Trial 2 finished with value: 0.7806669438430991 and parameters: {'n_estimators': 977, 'max_depth': 1, 'learning_rate': 0.13396135756788755}. Best is trial 1 with value: 0.8018193287551432.\n",
      "[I 2024-11-27 21:24:42,983] Trial 3 finished with value: 0.7943226620406876 and parameters: {'n_estimators': 436, 'max_depth': 8, 'learning_rate': 0.10686568655412401}. Best is trial 1 with value: 0.8018193287551432.\n",
      "[I 2024-11-27 22:15:11,895] Trial 4 finished with value: 0.7897693223036228 and parameters: {'n_estimators': 864, 'max_depth': 10, 'learning_rate': 0.09028269828830236}. Best is trial 1 with value: 0.8018193287551432.\n",
      "[I 2024-11-27 22:15:38,779] A new study created in memory with name: no-name-cfa871a0-49bc-4ae5-9b3c-6246ec7f2d8a\n"
     ]
    },
    {
     "name": "stdout",
     "output_type": "stream",
     "text": [
      "k=4, classifier=cb, negative=random, seed=4, results={'accuracy': 0.79375, 'precision': 0.7804295942720764, 'recall': 0.8175, 'f1': 0.7985347985347986, 'roc_auc': 0.79375, 'TP': 327, 'TN': 308, 'FP': 92, 'FN': 73}\n"
     ]
    },
    {
     "name": "stderr",
     "output_type": "stream",
     "text": [
      "[I 2024-11-27 22:20:46,579] Trial 0 finished with value: 0.7951391377901391 and parameters: {'n_estimators': 223, 'max_depth': 9, 'learning_rate': 0.11129238611631893}. Best is trial 0 with value: 0.7951391377901391.\n",
      "[I 2024-11-27 22:22:45,251] Trial 1 finished with value: 0.7937936373672062 and parameters: {'n_estimators': 919, 'max_depth': 5, 'learning_rate': 0.3097544928222964}. Best is trial 0 with value: 0.7951391377901391.\n",
      "[I 2024-11-27 22:25:28,587] Trial 2 finished with value: 0.8004910323866323 and parameters: {'n_estimators': 767, 'max_depth': 6, 'learning_rate': 0.15543224577234876}. Best is trial 2 with value: 0.8004910323866323.\n",
      "[I 2024-11-27 22:25:34,289] Trial 3 finished with value: 0.7745164943871773 and parameters: {'n_estimators': 189, 'max_depth': 1, 'learning_rate': 0.3718357451374953}. Best is trial 2 with value: 0.8004910323866323.\n",
      "[I 2024-11-27 22:25:53,137] Trial 4 finished with value: 0.7878876288511992 and parameters: {'n_estimators': 442, 'max_depth': 2, 'learning_rate': 0.44116914528862666}. Best is trial 2 with value: 0.8004910323866323.\n",
      "[I 2024-11-27 22:26:10,298] A new study created in memory with name: no-name-20645d73-ab2b-4e4a-8200-d2166840e7ec\n"
     ]
    },
    {
     "name": "stdout",
     "output_type": "stream",
     "text": [
      "k=4, classifier=cb, negative=random, seed=5, results={'accuracy': 0.79625, 'precision': 0.7925925925925926, 'recall': 0.8025, 'f1': 0.7975155279503106, 'roc_auc': 0.79625, 'TP': 321, 'TN': 316, 'FP': 84, 'FN': 79}\n"
     ]
    },
    {
     "name": "stderr",
     "output_type": "stream",
     "text": [
      "[I 2024-11-27 22:27:28,037] Trial 0 finished with value: 0.7948731917821966 and parameters: {'n_estimators': 893, 'max_depth': 4, 'learning_rate': 0.4124022702983376}. Best is trial 0 with value: 0.7948731917821966.\n",
      "[I 2024-11-27 22:27:30,547] Trial 1 finished with value: 0.7656743272497885 and parameters: {'n_estimators': 43, 'max_depth': 2, 'learning_rate': 0.3015755114610577}. Best is trial 0 with value: 0.7948731917821966.\n",
      "[I 2024-11-27 22:28:42,415] Trial 2 finished with value: 0.7964731688434574 and parameters: {'n_estimators': 531, 'max_depth': 5, 'learning_rate': 0.17434984614393131}. Best is trial 2 with value: 0.7964731688434574.\n",
      "[I 2024-11-27 22:30:05,489] Trial 3 finished with value: 0.7935312755372682 and parameters: {'n_estimators': 623, 'max_depth': 5, 'learning_rate': 0.3705822321108582}. Best is trial 2 with value: 0.7964731688434574.\n",
      "[I 2024-11-27 22:31:55,700] Trial 4 finished with value: 0.7988760017777523 and parameters: {'n_estimators': 519, 'max_depth': 6, 'learning_rate': 0.32622399698884097}. Best is trial 4 with value: 0.7988760017777523.\n",
      "[I 2024-11-27 22:32:06,858] A new study created in memory with name: no-name-d895b9da-51c2-4a7e-b3ee-a7316a7825cd\n"
     ]
    },
    {
     "name": "stdout",
     "output_type": "stream",
     "text": [
      "k=4, classifier=cb, negative=random, seed=6, results={'accuracy': 0.8, 'precision': 0.7830188679245284, 'recall': 0.83, 'f1': 0.8058252427184466, 'roc_auc': 0.8, 'TP': 332, 'TN': 308, 'FP': 92, 'FN': 68}\n"
     ]
    },
    {
     "name": "stderr",
     "output_type": "stream",
     "text": [
      "[I 2024-11-27 22:33:02,372] Trial 0 finished with value: 0.7763752491003713 and parameters: {'n_estimators': 78, 'max_depth': 8, 'learning_rate': 0.2248205234060378}. Best is trial 0 with value: 0.7763752491003713.\n",
      "[I 2024-11-27 23:15:36,829] Trial 1 finished with value: 0.7838798010064372 and parameters: {'n_estimators': 724, 'max_depth': 10, 'learning_rate': 0.2738629765011125}. Best is trial 1 with value: 0.7838798010064372.\n",
      "[I 2024-11-27 23:15:51,004] Trial 2 finished with value: 0.7801321844848104 and parameters: {'n_estimators': 502, 'max_depth': 1, 'learning_rate': 0.1415351002499169}. Best is trial 1 with value: 0.7838798010064372.\n",
      "[I 2024-11-27 23:18:55,608] Trial 3 finished with value: 0.788965032759387 and parameters: {'n_estimators': 501, 'max_depth': 7, 'learning_rate': 0.40383212769114396}. Best is trial 3 with value: 0.788965032759387.\n",
      "[I 2024-11-27 23:19:06,740] Trial 4 finished with value: 0.7806705280211036 and parameters: {'n_estimators': 382, 'max_depth': 1, 'learning_rate': 0.15119134366091685}. Best is trial 3 with value: 0.788965032759387.\n"
     ]
    },
    {
     "name": "stdout",
     "output_type": "stream",
     "text": [
      "k=4, classifier=cb, negative=random, seed=7, results={'accuracy': 0.80625, 'precision': 0.7995110024449877, 'recall': 0.8175, 'f1': 0.8084054388133498, 'roc_auc': 0.80625, 'TP': 327, 'TN': 318, 'FP': 82, 'FN': 73}\n"
     ]
    },
    {
     "name": "stderr",
     "output_type": "stream",
     "text": [
      "[I 2024-11-27 23:19:26,000] A new study created in memory with name: no-name-89cd8b2f-3285-4cc1-9830-0868f6258a26\n",
      "[I 2024-11-28 00:11:44,388] Trial 0 finished with value: 0.7777221831945061 and parameters: {'n_estimators': 874, 'max_depth': 10, 'learning_rate': 0.4359053247048208}. Best is trial 0 with value: 0.7777221831945061.\n",
      "[I 2024-11-28 00:12:18,054] Trial 1 finished with value: 0.7718233430345085 and parameters: {'n_estimators': 532, 'max_depth': 3, 'learning_rate': 0.01558541409594065}. Best is trial 0 with value: 0.7777221831945061.\n",
      "[I 2024-11-28 00:13:17,145] Trial 2 finished with value: 0.7892367134521368 and parameters: {'n_estimators': 432, 'max_depth': 5, 'learning_rate': 0.26611058896275913}. Best is trial 2 with value: 0.7892367134521368.\n",
      "[I 2024-11-28 00:15:00,946] Trial 3 finished with value: 0.794581439692621 and parameters: {'n_estimators': 479, 'max_depth': 6, 'learning_rate': 0.2762591485958448}. Best is trial 3 with value: 0.794581439692621.\n",
      "[I 2024-11-28 00:23:51,862] Trial 4 finished with value: 0.7903055153331134 and parameters: {'n_estimators': 762, 'max_depth': 8, 'learning_rate': 0.3136442270906854}. Best is trial 3 with value: 0.794581439692621.\n",
      "[I 2024-11-28 00:24:02,188] A new study created in memory with name: no-name-8ad36b85-a0df-45aa-83d5-01e5717eaf2b\n"
     ]
    },
    {
     "name": "stdout",
     "output_type": "stream",
     "text": [
      "k=4, classifier=cb, negative=random, seed=8, results={'accuracy': 0.79875, 'precision': 0.7852028639618138, 'recall': 0.8225, 'f1': 0.8034188034188035, 'roc_auc': 0.7987500000000001, 'TP': 329, 'TN': 310, 'FP': 90, 'FN': 71}\n"
     ]
    },
    {
     "name": "stderr",
     "output_type": "stream",
     "text": [
      "[I 2024-11-28 00:24:05,576] Trial 0 finished with value: 0.7506680907800604 and parameters: {'n_estimators': 12, 'max_depth': 6, 'learning_rate': 0.25292891363573156}. Best is trial 0 with value: 0.7506680907800604.\n",
      "[I 2024-11-28 00:24:12,081] Trial 1 finished with value: 0.7723753064472194 and parameters: {'n_estimators': 135, 'max_depth': 2, 'learning_rate': 0.11709375105677833}. Best is trial 1 with value: 0.7723753064472194.\n",
      "[I 2024-11-28 00:24:39,460] Trial 2 finished with value: 0.7900388524895701 and parameters: {'n_estimators': 420, 'max_depth': 3, 'learning_rate': 0.05118922907102154}. Best is trial 2 with value: 0.7900388524895701.\n",
      "[I 2024-11-28 00:24:54,706] Trial 3 finished with value: 0.7868188269702227 and parameters: {'n_estimators': 347, 'max_depth': 2, 'learning_rate': 0.44049395191100293}. Best is trial 2 with value: 0.7900388524895701.\n",
      "[I 2024-11-28 00:25:21,696] Trial 4 finished with value: 0.78548909693051 and parameters: {'n_estimators': 952, 'max_depth': 1, 'learning_rate': 0.3525626217853929}. Best is trial 2 with value: 0.7900388524895701.\n",
      "100%|██████████| 1/1 [3:13:07<00:00, 11587.37s/it]"
     ]
    },
    {
     "name": "stdout",
     "output_type": "stream",
     "text": [
      "k=4, classifier=cb, negative=random, seed=9, results={'accuracy': 0.785, 'precision': 0.7766990291262136, 'recall': 0.8, 'f1': 0.7881773399014779, 'roc_auc': 0.785, 'TP': 320, 'TN': 308, 'FP': 92, 'FN': 80}\n"
     ]
    },
    {
     "name": "stderr",
     "output_type": "stream",
     "text": [
      "\n"
     ]
    }
   ],
   "source": [
    "from tqdm import tqdm\n",
    "\n",
    "classifier_names = ['rf', 'xgb', 'cb']\n",
    "# classifier_names = ['cb']\n",
    "negative_types = ['auto', 'random']\n",
    "# negative_types = ['random']\n",
    "seeds = [x for x in range(10)]\n",
    "# seeds = [x for x in range(4, 10)]\n",
    "ks = [3, 4]\n",
    "# ks = [4]\n",
    "\n",
    "for k in tqdm(ks):\n",
    "    for classifier_name in classifier_names:\n",
    "        for negative_type in negative_types:\n",
    "            for seed in seeds:\n",
    "                bm = BioModel(k=k, classifier_name=classifier_name, negative_type=negative_type, seed=seed)\n",
    "                bm.train_test_split()\n",
    "                bm.optimize(n_trials=5)\n",
    "                bm.train()\n",
    "                bm.save_model()\n",
    "                bm.save_best_params()\n",
    "                results = bm.evaluate()\n",
    "                print(f'k={k}, classifier={classifier_name}, negative={negative_type}, seed={seed}, results={results}')"
   ]
  },
  {
   "cell_type": "code",
   "execution_count": 2,
   "metadata": {},
   "outputs": [
    {
     "name": "stderr",
     "output_type": "stream",
     "text": [
      "  0%|          | 0/1 [00:00<?, ?it/s][I 2024-12-07 13:09:45,123] A new study created in memory with name: no-name-ec883157-7412-4f64-ab8f-88a90592dd18\n",
      "[I 2024-12-07 13:12:31,577] Trial 0 finished with value: 0.6023668639053253 and parameters: {'n_estimators': 550, 'max_depth': 8, 'min_samples_split': 7, 'min_samples_leaf': 6}. Best is trial 0 with value: 0.6023668639053253.\n"
     ]
    },
    {
     "name": "stdout",
     "output_type": "stream",
     "text": [
      "k=5, classifier=rf, negative=auto, seed=0, results={'accuracy': 0.575, 'precision': 0.5458715596330275, 'recall': 0.8925, 'f1': 0.6774193548387096, 'roc_auc': 0.575, 'TP': 357, 'TN': 103, 'FP': 297, 'FN': 43}\n"
     ]
    },
    {
     "name": "stderr",
     "output_type": "stream",
     "text": [
      "[I 2024-12-07 13:12:50,646] A new study created in memory with name: no-name-f32c698b-ed6d-4473-a0ef-7a70c2d5b444\n",
      "[I 2024-12-07 13:15:56,441] Trial 0 finished with value: 0.7683316368224112 and parameters: {'n_estimators': 550, 'max_depth': 8, 'min_samples_split': 7, 'min_samples_leaf': 6}. Best is trial 0 with value: 0.7683316368224112.\n"
     ]
    },
    {
     "name": "stdout",
     "output_type": "stream",
     "text": [
      "k=5, classifier=rf, negative=random, seed=0, results={'accuracy': 0.7725, 'precision': 0.7632850241545893, 'recall': 0.79, 'f1': 0.7764127764127764, 'roc_auc': 0.7725, 'TP': 316, 'TN': 302, 'FP': 98, 'FN': 84}\n"
     ]
    },
    {
     "name": "stderr",
     "output_type": "stream",
     "text": [
      "[I 2024-12-07 13:16:22,611] A new study created in memory with name: no-name-39a03cfb-4d67-4337-be18-a0f07d4e26de\n",
      "[I 2024-12-07 13:27:06,133] Trial 0 finished with value: 0.6020710059171599 and parameters: {'n_estimators': 550, 'max_depth': 8, 'learning_rate': 0.3053540542751055, 'gamma': 0.5494343511669278}. Best is trial 0 with value: 0.6020710059171599.\n"
     ]
    },
    {
     "name": "stdout",
     "output_type": "stream",
     "text": [
      "k=5, classifier=xgb, negative=auto, seed=0, results={'accuracy': 0.5675, 'precision': 0.5564853556485355, 'recall': 0.665, 'f1': 0.6059225512528473, 'roc_auc': 0.5675, 'TP': 266, 'TN': 188, 'FP': 212, 'FN': 134}\n"
     ]
    },
    {
     "name": "stderr",
     "output_type": "stream",
     "text": [
      "[I 2024-12-07 13:28:16,505] A new study created in memory with name: no-name-d953e9a4-418e-49fa-bae2-b716827607a7\n",
      "[I 2024-12-07 13:39:22,889] Trial 0 finished with value: 0.7908288053217875 and parameters: {'n_estimators': 550, 'max_depth': 8, 'learning_rate': 0.3053540542751055, 'gamma': 0.5494343511669278}. Best is trial 0 with value: 0.7908288053217875.\n"
     ]
    },
    {
     "name": "stdout",
     "output_type": "stream",
     "text": [
      "k=5, classifier=xgb, negative=random, seed=0, results={'accuracy': 0.7625, 'precision': 0.75, 'recall': 0.7875, 'f1': 0.7682926829268293, 'roc_auc': 0.7625000000000001, 'TP': 315, 'TN': 295, 'FP': 105, 'FN': 85}\n"
     ]
    },
    {
     "name": "stderr",
     "output_type": "stream",
     "text": [
      "[I 2024-12-07 13:40:35,279] A new study created in memory with name: no-name-143eb32d-a05f-424f-a6d9-a06b291326f7\n",
      "[I 2024-12-07 14:03:21,084] Trial 0 finished with value: 0.6168639053254438 and parameters: {'n_estimators': 550, 'max_depth': 8, 'learning_rate': 0.3053540542751055}. Best is trial 0 with value: 0.6168639053254438.\n"
     ]
    },
    {
     "name": "stdout",
     "output_type": "stream",
     "text": [
      "k=5, classifier=cb, negative=auto, seed=0, results={'accuracy': 0.57125, 'precision': 0.5566600397614314, 'recall': 0.7, 'f1': 0.6201550387596899, 'roc_auc': 0.57125, 'TP': 280, 'TN': 177, 'FP': 223, 'FN': 120}\n"
     ]
    },
    {
     "name": "stderr",
     "output_type": "stream",
     "text": [
      "[I 2024-12-07 14:05:39,264] A new study created in memory with name: no-name-1f1342f3-0e1a-417e-a5ed-1682eb61eca7\n",
      "[I 2024-12-07 14:27:58,285] Trial 0 finished with value: 0.7937821679975914 and parameters: {'n_estimators': 550, 'max_depth': 8, 'learning_rate': 0.3053540542751055}. Best is trial 0 with value: 0.7937821679975914.\n",
      "100%|██████████| 1/1 [1:20:30<00:00, 4830.53s/it]"
     ]
    },
    {
     "name": "stdout",
     "output_type": "stream",
     "text": [
      "k=5, classifier=cb, negative=random, seed=0, results={'accuracy': 0.78, 'precision': 0.7641509433962265, 'recall': 0.81, 'f1': 0.7864077669902912, 'roc_auc': 0.78, 'TP': 324, 'TN': 300, 'FP': 100, 'FN': 76}\n"
     ]
    },
    {
     "name": "stderr",
     "output_type": "stream",
     "text": [
      "\n"
     ]
    }
   ],
   "source": [
    "from tqdm import tqdm\n",
    "\n",
    "# Now we run the modelling for k=5\n",
    "# but only for one seed and 1 trial\n",
    "# the whole process is too long to run for all seeds and trials\n",
    "\n",
    "classifier_names = ['rf', 'xgb', 'cb']\n",
    "negative_types = ['auto', 'random']\n",
    "seeds = [0]\n",
    "ks = [5]\n",
    "\n",
    "for k in tqdm(ks):\n",
    "    for classifier_name in classifier_names:\n",
    "        for negative_type in negative_types:\n",
    "            for seed in seeds:\n",
    "                bm = BioModel(k=k, classifier_name=classifier_name, negative_type=negative_type, seed=seed)\n",
    "                bm.train_test_split()\n",
    "                bm.optimize(n_trials=1)\n",
    "                bm.train()\n",
    "                bm.save_model()\n",
    "                bm.save_best_params()\n",
    "                results = bm.evaluate()\n",
    "                print(f'k={k}, classifier={classifier_name}, negative={negative_type}, seed={seed}, results={results}')"
   ]
  }
 ],
 "metadata": {
  "kernelspec": {
   "display_name": "Python 3",
   "language": "python",
   "name": "python3"
  },
  "language_info": {
   "codemirror_mode": {
    "name": "ipython",
    "version": 3
   },
   "file_extension": ".py",
   "mimetype": "text/x-python",
   "name": "python",
   "nbconvert_exporter": "python",
   "pygments_lexer": "ipython3",
   "version": "3.10.6"
  }
 },
 "nbformat": 4,
 "nbformat_minor": 2
}
