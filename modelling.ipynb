{
 "cells": [
  {
   "cell_type": "code",
   "execution_count": 1,
   "metadata": {},
   "outputs": [],
   "source": [
    "from src.BioModel import *"
   ]
  },
  {
   "cell_type": "code",
   "execution_count": 2,
   "metadata": {},
   "outputs": [
    {
     "name": "stderr",
     "output_type": "stream",
     "text": [
      "  0%|          | 0/1 [00:00<?, ?it/s][I 2024-11-27 21:12:17,237] A new study created in memory with name: no-name-e16de6d8-b7aa-4fff-8fdd-bfae911c374d\n",
      "[I 2024-11-27 21:15:00,612] Trial 0 finished with value: 0.7929850468093647 and parameters: {'n_estimators': 968, 'max_depth': 6, 'learning_rate': 0.4866153363827933}. Best is trial 0 with value: 0.7929850468093647.\n",
      "[I 2024-11-27 21:19:13,021] Trial 1 finished with value: 0.8018193287551432 and parameters: {'n_estimators': 716, 'max_depth': 7, 'learning_rate': 0.11588385283438442}. Best is trial 1 with value: 0.8018193287551432.\n",
      "[I 2024-11-27 21:19:41,792] Trial 2 finished with value: 0.7806669438430991 and parameters: {'n_estimators': 977, 'max_depth': 1, 'learning_rate': 0.13396135756788755}. Best is trial 1 with value: 0.8018193287551432.\n",
      "[I 2024-11-27 21:24:42,983] Trial 3 finished with value: 0.7943226620406876 and parameters: {'n_estimators': 436, 'max_depth': 8, 'learning_rate': 0.10686568655412401}. Best is trial 1 with value: 0.8018193287551432.\n",
      "[I 2024-11-27 22:15:11,895] Trial 4 finished with value: 0.7897693223036228 and parameters: {'n_estimators': 864, 'max_depth': 10, 'learning_rate': 0.09028269828830236}. Best is trial 1 with value: 0.8018193287551432.\n",
      "[I 2024-11-27 22:15:38,779] A new study created in memory with name: no-name-cfa871a0-49bc-4ae5-9b3c-6246ec7f2d8a\n"
     ]
    },
    {
     "name": "stdout",
     "output_type": "stream",
     "text": [
      "k=4, classifier=cb, negative=random, seed=4, results={'accuracy': 0.79375, 'precision': 0.7804295942720764, 'recall': 0.8175, 'f1': 0.7985347985347986, 'roc_auc': 0.79375, 'TP': 327, 'TN': 308, 'FP': 92, 'FN': 73}\n"
     ]
    },
    {
     "name": "stderr",
     "output_type": "stream",
     "text": [
      "[I 2024-11-27 22:20:46,579] Trial 0 finished with value: 0.7951391377901391 and parameters: {'n_estimators': 223, 'max_depth': 9, 'learning_rate': 0.11129238611631893}. Best is trial 0 with value: 0.7951391377901391.\n",
      "[I 2024-11-27 22:22:45,251] Trial 1 finished with value: 0.7937936373672062 and parameters: {'n_estimators': 919, 'max_depth': 5, 'learning_rate': 0.3097544928222964}. Best is trial 0 with value: 0.7951391377901391.\n",
      "[I 2024-11-27 22:25:28,587] Trial 2 finished with value: 0.8004910323866323 and parameters: {'n_estimators': 767, 'max_depth': 6, 'learning_rate': 0.15543224577234876}. Best is trial 2 with value: 0.8004910323866323.\n",
      "[I 2024-11-27 22:25:34,289] Trial 3 finished with value: 0.7745164943871773 and parameters: {'n_estimators': 189, 'max_depth': 1, 'learning_rate': 0.3718357451374953}. Best is trial 2 with value: 0.8004910323866323.\n",
      "[I 2024-11-27 22:25:53,137] Trial 4 finished with value: 0.7878876288511992 and parameters: {'n_estimators': 442, 'max_depth': 2, 'learning_rate': 0.44116914528862666}. Best is trial 2 with value: 0.8004910323866323.\n",
      "[I 2024-11-27 22:26:10,298] A new study created in memory with name: no-name-20645d73-ab2b-4e4a-8200-d2166840e7ec\n"
     ]
    },
    {
     "name": "stdout",
     "output_type": "stream",
     "text": [
      "k=4, classifier=cb, negative=random, seed=5, results={'accuracy': 0.79625, 'precision': 0.7925925925925926, 'recall': 0.8025, 'f1': 0.7975155279503106, 'roc_auc': 0.79625, 'TP': 321, 'TN': 316, 'FP': 84, 'FN': 79}\n"
     ]
    },
    {
     "name": "stderr",
     "output_type": "stream",
     "text": [
      "[I 2024-11-27 22:27:28,037] Trial 0 finished with value: 0.7948731917821966 and parameters: {'n_estimators': 893, 'max_depth': 4, 'learning_rate': 0.4124022702983376}. Best is trial 0 with value: 0.7948731917821966.\n",
      "[I 2024-11-27 22:27:30,547] Trial 1 finished with value: 0.7656743272497885 and parameters: {'n_estimators': 43, 'max_depth': 2, 'learning_rate': 0.3015755114610577}. Best is trial 0 with value: 0.7948731917821966.\n",
      "[I 2024-11-27 22:28:42,415] Trial 2 finished with value: 0.7964731688434574 and parameters: {'n_estimators': 531, 'max_depth': 5, 'learning_rate': 0.17434984614393131}. Best is trial 2 with value: 0.7964731688434574.\n",
      "[I 2024-11-27 22:30:05,489] Trial 3 finished with value: 0.7935312755372682 and parameters: {'n_estimators': 623, 'max_depth': 5, 'learning_rate': 0.3705822321108582}. Best is trial 2 with value: 0.7964731688434574.\n",
      "[I 2024-11-27 22:31:55,700] Trial 4 finished with value: 0.7988760017777523 and parameters: {'n_estimators': 519, 'max_depth': 6, 'learning_rate': 0.32622399698884097}. Best is trial 4 with value: 0.7988760017777523.\n",
      "[I 2024-11-27 22:32:06,858] A new study created in memory with name: no-name-d895b9da-51c2-4a7e-b3ee-a7316a7825cd\n"
     ]
    },
    {
     "name": "stdout",
     "output_type": "stream",
     "text": [
      "k=4, classifier=cb, negative=random, seed=6, results={'accuracy': 0.8, 'precision': 0.7830188679245284, 'recall': 0.83, 'f1': 0.8058252427184466, 'roc_auc': 0.8, 'TP': 332, 'TN': 308, 'FP': 92, 'FN': 68}\n"
     ]
    },
    {
     "name": "stderr",
     "output_type": "stream",
     "text": [
      "[I 2024-11-27 22:33:02,372] Trial 0 finished with value: 0.7763752491003713 and parameters: {'n_estimators': 78, 'max_depth': 8, 'learning_rate': 0.2248205234060378}. Best is trial 0 with value: 0.7763752491003713.\n",
      "[I 2024-11-27 23:15:36,829] Trial 1 finished with value: 0.7838798010064372 and parameters: {'n_estimators': 724, 'max_depth': 10, 'learning_rate': 0.2738629765011125}. Best is trial 1 with value: 0.7838798010064372.\n",
      "[I 2024-11-27 23:15:51,004] Trial 2 finished with value: 0.7801321844848104 and parameters: {'n_estimators': 502, 'max_depth': 1, 'learning_rate': 0.1415351002499169}. Best is trial 1 with value: 0.7838798010064372.\n",
      "[I 2024-11-27 23:18:55,608] Trial 3 finished with value: 0.788965032759387 and parameters: {'n_estimators': 501, 'max_depth': 7, 'learning_rate': 0.40383212769114396}. Best is trial 3 with value: 0.788965032759387.\n",
      "[I 2024-11-27 23:19:06,740] Trial 4 finished with value: 0.7806705280211036 and parameters: {'n_estimators': 382, 'max_depth': 1, 'learning_rate': 0.15119134366091685}. Best is trial 3 with value: 0.788965032759387.\n"
     ]
    },
    {
     "name": "stdout",
     "output_type": "stream",
     "text": [
      "k=4, classifier=cb, negative=random, seed=7, results={'accuracy': 0.80625, 'precision': 0.7995110024449877, 'recall': 0.8175, 'f1': 0.8084054388133498, 'roc_auc': 0.80625, 'TP': 327, 'TN': 318, 'FP': 82, 'FN': 73}\n"
     ]
    },
    {
     "name": "stderr",
     "output_type": "stream",
     "text": [
      "[I 2024-11-27 23:19:26,000] A new study created in memory with name: no-name-89cd8b2f-3285-4cc1-9830-0868f6258a26\n",
      "[I 2024-11-28 00:11:44,388] Trial 0 finished with value: 0.7777221831945061 and parameters: {'n_estimators': 874, 'max_depth': 10, 'learning_rate': 0.4359053247048208}. Best is trial 0 with value: 0.7777221831945061.\n",
      "[I 2024-11-28 00:12:18,054] Trial 1 finished with value: 0.7718233430345085 and parameters: {'n_estimators': 532, 'max_depth': 3, 'learning_rate': 0.01558541409594065}. Best is trial 0 with value: 0.7777221831945061.\n",
      "[I 2024-11-28 00:13:17,145] Trial 2 finished with value: 0.7892367134521368 and parameters: {'n_estimators': 432, 'max_depth': 5, 'learning_rate': 0.26611058896275913}. Best is trial 2 with value: 0.7892367134521368.\n",
      "[I 2024-11-28 00:15:00,946] Trial 3 finished with value: 0.794581439692621 and parameters: {'n_estimators': 479, 'max_depth': 6, 'learning_rate': 0.2762591485958448}. Best is trial 3 with value: 0.794581439692621.\n",
      "[I 2024-11-28 00:23:51,862] Trial 4 finished with value: 0.7903055153331134 and parameters: {'n_estimators': 762, 'max_depth': 8, 'learning_rate': 0.3136442270906854}. Best is trial 3 with value: 0.794581439692621.\n",
      "[I 2024-11-28 00:24:02,188] A new study created in memory with name: no-name-8ad36b85-a0df-45aa-83d5-01e5717eaf2b\n"
     ]
    },
    {
     "name": "stdout",
     "output_type": "stream",
     "text": [
      "k=4, classifier=cb, negative=random, seed=8, results={'accuracy': 0.79875, 'precision': 0.7852028639618138, 'recall': 0.8225, 'f1': 0.8034188034188035, 'roc_auc': 0.7987500000000001, 'TP': 329, 'TN': 310, 'FP': 90, 'FN': 71}\n"
     ]
    },
    {
     "name": "stderr",
     "output_type": "stream",
     "text": [
      "[I 2024-11-28 00:24:05,576] Trial 0 finished with value: 0.7506680907800604 and parameters: {'n_estimators': 12, 'max_depth': 6, 'learning_rate': 0.25292891363573156}. Best is trial 0 with value: 0.7506680907800604.\n",
      "[I 2024-11-28 00:24:12,081] Trial 1 finished with value: 0.7723753064472194 and parameters: {'n_estimators': 135, 'max_depth': 2, 'learning_rate': 0.11709375105677833}. Best is trial 1 with value: 0.7723753064472194.\n",
      "[I 2024-11-28 00:24:39,460] Trial 2 finished with value: 0.7900388524895701 and parameters: {'n_estimators': 420, 'max_depth': 3, 'learning_rate': 0.05118922907102154}. Best is trial 2 with value: 0.7900388524895701.\n",
      "[I 2024-11-28 00:24:54,706] Trial 3 finished with value: 0.7868188269702227 and parameters: {'n_estimators': 347, 'max_depth': 2, 'learning_rate': 0.44049395191100293}. Best is trial 2 with value: 0.7900388524895701.\n",
      "[I 2024-11-28 00:25:21,696] Trial 4 finished with value: 0.78548909693051 and parameters: {'n_estimators': 952, 'max_depth': 1, 'learning_rate': 0.3525626217853929}. Best is trial 2 with value: 0.7900388524895701.\n",
      "100%|██████████| 1/1 [3:13:07<00:00, 11587.37s/it]"
     ]
    },
    {
     "name": "stdout",
     "output_type": "stream",
     "text": [
      "k=4, classifier=cb, negative=random, seed=9, results={'accuracy': 0.785, 'precision': 0.7766990291262136, 'recall': 0.8, 'f1': 0.7881773399014779, 'roc_auc': 0.785, 'TP': 320, 'TN': 308, 'FP': 92, 'FN': 80}\n"
     ]
    },
    {
     "name": "stderr",
     "output_type": "stream",
     "text": [
      "\n"
     ]
    }
   ],
   "source": [
    "from tqdm import tqdm\n",
    "\n",
    "# classifier_names = ['rf', 'xgb', 'cb']\n",
    "classifier_names = ['cb']\n",
    "# negative_types = ['auto', 'random']\n",
    "negative_types = ['random']\n",
    "# seeds = [x for x in range(10)]\n",
    "seeds = [x for x in range(4, 10)]\n",
    "# ks = [3, 4, 5]\n",
    "ks = [4]\n",
    "\n",
    "for k in tqdm(ks):\n",
    "    for classifier_name in classifier_names:\n",
    "        for negative_type in negative_types:\n",
    "            for seed in seeds:\n",
    "                bm = BioModel(k=k, classifier_name=classifier_name, negative_type=negative_type, seed=seed)\n",
    "                bm.train_test_split()\n",
    "                bm.optimize(n_trials=5)\n",
    "                bm.train()\n",
    "                bm.save_model()\n",
    "                bm.save_best_params()\n",
    "                results = bm.evaluate()\n",
    "                print(f'k={k}, classifier={classifier_name}, negative={negative_type}, seed={seed}, results={results}')"
   ]
  }
 ],
 "metadata": {
  "kernelspec": {
   "display_name": "Python 3",
   "language": "python",
   "name": "python3"
  },
  "language_info": {
   "codemirror_mode": {
    "name": "ipython",
    "version": 3
   },
   "file_extension": ".py",
   "mimetype": "text/x-python",
   "name": "python",
   "nbconvert_exporter": "python",
   "pygments_lexer": "ipython3",
   "version": "3.10.6"
  }
 },
 "nbformat": 4,
 "nbformat_minor": 2
}
