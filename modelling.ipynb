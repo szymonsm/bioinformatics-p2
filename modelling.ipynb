{
 "cells": [
  {
   "cell_type": "code",
   "execution_count": null,
   "metadata": {},
   "outputs": [],
   "source": [
    "from src.BioModel import *"
   ]
  },
  {
   "cell_type": "code",
   "execution_count": null,
   "metadata": {},
   "outputs": [],
   "source": [
    "from tqdm import tqdm\n",
    "\n",
    "classifier_names = ['rf', 'xgb', 'cb']\n",
    "negative_types = ['auto', 'random']\n",
    "seeds = [x for x in range(10)]\n",
    "ks = [3, 4, 5]\n",
    "\n",
    "for k in tqdm(ks):\n",
    "    for classifier_name in classifier_names:\n",
    "        for negative_type in negative_types:\n",
    "            for seed in seeds:\n",
    "                bm = BioModel(k=k, classifier_name=classifier_name, negative_type=negative_type, seed=seed)\n",
    "                bm.train_test_split()\n",
    "                bm.optimize(n_trials=10)\n",
    "                bm.train()\n",
    "                bm.save_model()\n",
    "                bm.save_best_params()\n",
    "                results = bm.evaluate()\n",
    "                print(f'k={k}, classifier={classifier_name}, negative={negative_type}, seed={seed}, results={results}')"
   ]
  }
 ],
 "metadata": {
  "kernelspec": {
   "display_name": "Python 3",
   "language": "python",
   "name": "python3"
  },
  "language_info": {
   "codemirror_mode": {
    "name": "ipython",
    "version": 3
   },
   "file_extension": ".py",
   "mimetype": "text/x-python",
   "name": "python",
   "nbconvert_exporter": "python",
   "pygments_lexer": "ipython3",
   "version": "3.10.6"
  }
 },
 "nbformat": 4,
 "nbformat_minor": 2
}
